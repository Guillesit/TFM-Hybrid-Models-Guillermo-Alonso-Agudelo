{
 "cells": [
  {
   "cell_type": "markdown",
   "metadata": {},
   "source": [
    "# Scrip to draw evolution of hybrid model (modification of age structure and stochastic population)\n"
   ]
  },
  {
   "cell_type": "markdown",
   "metadata": {},
   "source": [
    "Charge the files."
   ]
  },
  {
   "cell_type": "code",
   "execution_count": 8,
   "metadata": {
    "collapsed": false
   },
   "outputs": [],
   "source": [
    "import os\n",
    "for k in range(1,100):\n",
    "    foldername='stochastic/%i/OutputValuesPopulation/'%k\n",
    "    for filename in os.listdir(foldername):\n",
    "        if filename==\"Out100\":\n",
    "            new= \"Out100.txt\"\n",
    "            os.rename(foldername+filename,foldername+new )\n",
    "        for j in range(10,100):\n",
    "            if filename==\"Out0%s\"%j:\n",
    "                new='Out%s.txt'%j\n",
    "                os.rename(foldername+filename,foldername+new )\n",
    "        for j in range(0,10):\n",
    "            if filename==\"Out00%s\"%j:\n",
    "                new='Out%s.txt'%j\n",
    "                os.rename(foldername+filename,foldername+new )\n",
    "    foldername='stochastic/%i/OutputValuesOxygen/'%k\n",
    "    for filename in os.listdir(foldername):\n",
    "        if filename==\"Out100\":\n",
    "            new= \"Out100.txt\"\n",
    "            os.rename(foldername+filename,foldername+new )\n",
    "        for j in range(10,100):\n",
    "            if filename==\"Out0%s\"%j:\n",
    "                new='Out%s.txt'%j\n",
    "                os.rename(foldername+filename,foldername+new )\n",
    "        for j in range(0,10):\n",
    "            if filename==\"Out00%s\"%j:\n",
    "                new='Out%s.txt'%j\n",
    "                os.rename(foldername+filename,foldername+new )"
   ]
  },
  {
   "cell_type": "code",
   "execution_count": 3,
   "metadata": {
    "collapsed": false
   },
   "outputs": [],
   "source": [
    "# Setting the terminal postscript with the options\n",
    "import csv\n",
    "import os\n",
    "import numpy as np\n",
    "#%matplotlib inline\n",
    "import matplotlib.pyplot as plt\n",
    "import math as m\n",
    "from glob import glob\n",
    "import seaborn as sns\n",
    "\n",
    "###### Hybrid files data\n",
    "foldername='cg/OutputValuesPopulation/'\n",
    "name=[]\n",
    "for i in range(0,10):\n",
    "    for file in os.listdir(foldername):\n",
    "        if file[:5]==\"Out%s.\"%i:\n",
    "#             print file\n",
    "            name.append(file)\n",
    "for i in range(10,100):\n",
    "    for file in os.listdir(foldername):\n",
    "        if file[:6]==\"Out%s.\"%i:\n",
    "#             print file\n",
    "            name.append(file)\n",
    "for file in os.listdir(foldername):\n",
    "        if file[:7]==\"Out%s.\"%100:\n",
    "#             print file\n",
    "            name.append(file)\n",
    "            \n",
    "# #Population data\n",
    "# Pop={}\n",
    "\n",
    "# #Oxygen data\n",
    "# Pop_ox={}\n",
    "\n",
    "# for file in os.listdir(foldername):\n",
    "#     aux=[]\n",
    "#     if file[:3]==\"Out\":\n",
    "#         crs = open(foldername+file, \"r\")\n",
    "#         for columns in ( raw.strip().split() for raw in crs ):\n",
    "#             aux.append(columns[1])\n",
    "#         aux=np.array(map(float,aux))\n",
    "#         Pop[file]=aux\n",
    "# foldername='hibrido/OutputValuesOxygen2000/'\n",
    "# for file in os.listdir(foldername):\n",
    "#     aux=[]\n",
    "#     if file[:3]==\"Out\":\n",
    "#         crs = open(foldername+file, \"r\")\n",
    "#         for columns in ( raw.strip().split() for raw in crs ):\n",
    "#             aux.append(columns[1])\n",
    "#         aux=np.array(map(float,aux))\n",
    "#         Pop_ox[file]=aux\n",
    "        \n",
    "###### Coarse grained files data\n",
    "foldername='cg/OutputValuesPopulation/'\n",
    "            \n",
    "#Population data\n",
    "Pop_cg={}\n",
    "\n",
    "#Oxygen data\n",
    "Pop_ox_cg={}\n",
    "\n",
    "for file in os.listdir(foldername):\n",
    "    aux=[]\n",
    "    if file[:3]==\"Out\":\n",
    "        crs = open(foldername+file, \"r\")\n",
    "        for columns in ( raw.strip().split() for raw in crs ):\n",
    "            aux.append(columns[1])\n",
    "        aux=np.array(map(float,aux))\n",
    "        Pop_cg[file]=aux\n",
    "foldername='cg/OutputValuesOxygen/'\n",
    "for file in os.listdir(foldername):\n",
    "    aux=[]\n",
    "    if file[:3]==\"Out\":\n",
    "        crs = open(foldername+file, \"r\")\n",
    "        for columns in ( raw.strip().split() for raw in crs ):\n",
    "            aux.append(columns[1])\n",
    "        aux=np.array(map(float,aux))\n",
    "        Pop_ox_cg[file]=aux"
   ]
  },
  {
   "cell_type": "code",
   "execution_count": 9,
   "metadata": {
    "collapsed": false
   },
   "outputs": [],
   "source": [
    "###### Stochastich files data\n",
    "\n",
    "Pop_stoc6={}\n",
    "for file in name:\n",
    "    #print file\n",
    "    j=1\n",
    "    foldername='stochastic/%s/OutputValuesPopulation/'%j\n",
    "    aux=[]\n",
    "    crs = open(foldername+file, \"r\")\n",
    "    for columns in ( raw.strip().split() for raw in crs ):\n",
    "        aux.append(columns[1])\n",
    "    aux=np.array(map(float,aux))\n",
    "    Pop_stoc6[file]=aux\n",
    "    for j in range(2,100):\n",
    "        foldername='stochastic/%s/OutputValuesPopulation/'%j\n",
    "        aux=[]\n",
    "        crs = open(foldername+file, \"r\")\n",
    "        for columns in ( raw.strip().split() for raw in crs ):\n",
    "            aux.append(columns[1])\n",
    "        aux=np.array(map(float,aux))\n",
    "        Pop_stoc6[file]=aux+Pop_stoc6[file]\n",
    "    Pop_stoc6[file]=Pop_stoc6[file]/100.0\n",
    "        \n",
    "Pop_stoc6_ox={}          \n",
    "for file in name:\n",
    "    #print file\n",
    "    j=1\n",
    "    foldername='stochastic/%s/OutputValuesOxygen/'%j\n",
    "    aux=[]\n",
    "    crs = open(foldername+file, \"r\")\n",
    "    for columns in ( raw.strip().split() for raw in crs ):\n",
    "        aux.append(columns[1])\n",
    "    aux=np.array(map(float,aux))\n",
    "    Pop_stoc6_ox[file]=aux\n",
    "    for j in range(2,100):\n",
    "        foldername='stochastic/%s/OutputValuesOxygen/'%j\n",
    "        aux=[]\n",
    "        crs = open(foldername+file, \"r\")\n",
    "        for columns in ( raw.strip().split() for raw in crs ):\n",
    "            aux.append(columns[1])\n",
    "        aux=np.array(map(float,aux))\n",
    "        Pop_stoc6_ox[file]=aux+Pop_stoc6_ox[file]\n",
    "    Pop_stoc6_ox[file]=Pop_stoc6_ox[file]/100.0"
   ]
  },
  {
   "cell_type": "markdown",
   "metadata": {},
   "source": [
    "## Graphic with 2 regions deterministic and stochastic"
   ]
  },
  {
   "cell_type": "code",
   "execution_count": 2,
   "metadata": {
    "collapsed": false
   },
   "outputs": [
    {
     "name": "stderr",
     "output_type": "stream",
     "text": [
      "/home/rdelacruz/anaconda/lib/python2.7/site-packages/matplotlib/pyplot.py:412: RuntimeWarning: More than 20 figures have been opened. Figures created through the pyplot interface (`matplotlib.pyplot.figure`) are retained until explicitly closed and may consume too much memory. (To control this warning, see the rcParam `figure.max_num_figures`).\n",
      "  max_open_warning, RuntimeWarning)\n"
     ]
    },
    {
     "data": {
      "text/plain": [
       "0"
      ]
     },
     "execution_count": 2,
     "metadata": {},
     "output_type": "execute_result"
    }
   ],
   "source": [
    "i=0\n",
    "frames=[]\n",
    "threshold=2000\n",
    "\"\"\"Save images in a folder before video\"\"\"\n",
    "outputdir=\"images\"\n",
    "if not os.path.exists(outputdir): # if the folder doesn't exist create it\n",
    "    os.makedirs(outputdir)\n",
    "for m in name:\n",
    "#     print m\n",
    "    fig=plt.figure()\n",
    "    #sns.set_style(\"whitegrid\")\n",
    "#     Pop_time=np.array(Pop[m])\n",
    "#     x=np.array(range(0,len(Pop_time)))\n",
    "#     plt.plot(Pop_time,'r-')\n",
    "#     plt.plot(x[Pop_time>threshold],Pop_time[Pop_time>threshold],'r-',linewidth=3,label='Hybrid')\n",
    "#     plt.axvspan(0, max(x[Pop_time>threshold]), facecolor='#2fb300', alpha=0.25)\n",
    "#     plt.plot(x[Pop_time<threshold],Pop_time[Pop_time<threshold],'r-',linewidth=3)\n",
    "#     plt.axvspan(max(x[Pop_time>threshold]),200, facecolor='r', alpha=0.25)\n",
    "#     plt.axvspan(max(x[Pop_time>threshold]),max(x[Pop_time>threshold])+1, facecolor='b', alpha=0.25)\n",
    "    plt.plot(Pop_cg[m],'b--',linewidth=3, label=r'$n_{cg}$')\n",
    "    plt.plot(Pop_stoc6[m],'g-o', linewidth = 3, label = '$n$')\n",
    "#     plt.title('$Hybrid$')\n",
    "    #plt.legend('Time %s'%i)\n",
    "    plt.xlabel('space (X)', fontsize=15)\n",
    "    plt.ylabel(r'Population', fontsize=15)\n",
    "    plt.xlim(0,100)\n",
    "    plt.ylim(0,5000)\n",
    "    plt.legend(loc='best')\n",
    "    #plt.show()\n",
    "    i=i+1\n",
    "    frame=\"images/image%03i.png\" % i\n",
    "    fig.savefig(frame,dpi=100)\n",
    "    frames.append(frame)   \n",
    "os.system(\"mencoder 'mf://images/image*.png' -mf type=png:fps=5 -ovc lavc -lavcopts vcodec=wmv2 -oac copy  -o \" + \"prueba2.mpg\")        \n",
    "#for frame in frames: os.remove(frame)"
   ]
  },
  {
   "cell_type": "code",
   "execution_count": null,
   "metadata": {
    "collapsed": true
   },
   "outputs": [],
   "source": []
  }
 ],
 "metadata": {
  "kernelspec": {
   "display_name": "Python 2",
   "language": "python",
   "name": "python2"
  },
  "language_info": {
   "codemirror_mode": {
    "name": "ipython",
    "version": 2
   },
   "file_extension": ".py",
   "mimetype": "text/x-python",
   "name": "python",
   "nbconvert_exporter": "python",
   "pygments_lexer": "ipython2",
   "version": "2.7.6"
  }
 },
 "nbformat": 4,
 "nbformat_minor": 0
}
